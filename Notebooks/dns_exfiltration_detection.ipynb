{
 "cells": [
  {
   "cell_type": "markdown",
   "id": "f3b24fe7-456e-4c44-a48c-e7e8c4226304",
   "metadata": {},
   "source": [
    "# DNS Exfiltration Detection Using Python and Pandas: A Network Traffic Analytics Approach\n",
    "By Herbert Maosa  \n",
    "Cybersecurity Consultant | PhD | CISSP | OSCP\n",
    "\n",
    "---\n",
    "\"***Most networks let DNS traffic pass without a second thought — and that's exactly what attackers are counting on***.\"\n",
    "\n",
    "**DNS exfiltration** is a stealthy cyberattack in which sensitive data — such as passwords, source code, or trade secrets — is smuggled out of a network inside DNS queries. Since DNS traffic is rarely blocked or closely scrutinized, attackers can encode payloads into domain lookups and quietly bypass firewalls. The exfiltrated data often travels in query names or payloads, unnoticed.\n",
    "\n",
    "Detecting DNS exfiltration involves identifying subtle anomalies, such as:\n",
    "\n",
    "- Excessively long or random-looking domain names\n",
    "- High volumes of DNS queries to suspicious or rarely seen domains\n",
    "- Unusual query types or response behaviors\n",
    "- Regular time intervals between queries\n",
    "- Queries occurring at abnormal times (e.g., nights/weekends)\n",
    "- High entropy or randomness in query names\n",
    "- Excessive subdomains under a single root domain\n",
    "- Anomalous distributions of response codes and types\n",
    "\n",
    "In this notebook, I present a framework for detecting data exfiltration over DNS. It is designed to be an evolving resource — enriched with new analyses as I encounter them in real-world threat hunts. The goal is to bridge theory and practice using Python, Pandas, and real PCAP data to demonstrate how even stealthy DNS traffic can reveal a breach in progress."
   ]
  },
  {
   "cell_type": "markdown",
   "id": "8e67cf2a-9b49-43b8-9abd-165b6e3dda10",
   "metadata": {},
   "source": [
    "---\n",
    "## 1. Imports and Dataset"
   ]
  },
  {
   "cell_type": "code",
   "execution_count": 1,
   "id": "1cf9b18a-0cbc-4ab7-9b4c-d6895dc6ed4e",
   "metadata": {},
   "outputs": [],
   "source": [
    "import sys\n",
    "import os\n",
    "sys.path.append(os.path.abspath(\"../src\")) # to find our heavy lifting code in the scripts/ folder."
   ]
  },
  {
   "cell_type": "code",
   "execution_count": 3,
   "id": "2376ebf6-8be0-46b9-b240-75f2b552424d",
   "metadata": {},
   "outputs": [],
   "source": [
    "import json\n",
    "import pandas as pd\n",
    "import numpy as np\n",
    "import math\n",
    "import matplotlib.pyplot as plt\n",
    "from collections import defaultdict\n",
    "from IPython.display import display\n",
    "import seaborn as sns\n",
    "import tldextract\n",
    "import matplotlib as mpl\n",
    "import matplotlib.dates as mdates\n",
    "import matplotlib.pyplot as plt\n",
    "import seaborn as sns\n",
    "import warnings\n",
    "from dns_exfil.process_pcap import process_dns\n",
    "from dns_exfil.dns_utils import shannon_entropy, map_dns_subdomains\n",
    "\n",
    "sns.set(style='whitegrid')\n",
    "plt.close('all')\n",
    "warnings.filterwarnings(\"ignore\", message=\".*use_inf_as_na.*\")"
   ]
  },
  {
   "cell_type": "markdown",
   "id": "9164c4c9-f75a-4563-8091-65f374cd5e2f",
   "metadata": {},
   "source": [
    "---\n",
    "For this Notebook, we analyze the [CIC-Bell-DNS-EXF-2021 dataset](https://www.unb.ca/cic/datasets/dns-exf-2021.html) by the Canadian Institute of Cyber Security- a well-known benchmark in cybersecurity research, particularly for DNS exfiltration detection. This dataset is provided in two formats:\n",
    "- A CSV file with ~30 pre-engineered features for machine learning\n",
    "- A raw PCAP file containing full packet captures.\n",
    "\n",
    "Although the PCAP includes other protocols, we focused exclusively on DNS traffic to investigate potential exfiltration activity. The PCAPS containing the attacks are further divided into *text, audio, video, images,* and *compressed*, depending on what the attack is doing. In this blog, we are only analysing the text PCAP payload, for illustration of the analytics. Feel free to extend the analytics and test them on the other attacks as well.\n",
    "The PCAP is initially dissected using our own python script, ```pcap_parser.py```, which you will find in the projects' [github repository](https://github.com/hmaosa/dns-exfiltration-detection). The processed output is stored in a structured JSON file, which we then load into a Pandas DataFrame for analysis.\n",
    "\n",
    "To simplify the notebook and separate concerns, we’ve moved the heavy lifting code—such as PCAP ingestion and DNS log processing—into dedicated helper scripts. These scripts handle tasks like parsing PCAP files and transforming the DNS traffic into an analyzable format.\n",
    "\n",
    "Only the essential code for visualization and analysis is retained in the notebook for clarity. You can access all helper scripts on the project's GitHub page."
   ]
  },
  {
   "cell_type": "code",
   "execution_count": 4,
   "id": "fbb7a500-61d0-46e9-8b42-311e767bf731",
   "metadata": {},
   "outputs": [
    {
     "ename": "FileNotFoundError",
     "evalue": "[Errno 2] No such file or directory: '../parsed_output/all_dns.json'",
     "output_type": "error",
     "traceback": [
      "\u001b[31m---------------------------------------------------------------------------\u001b[39m",
      "\u001b[31mFileNotFoundError\u001b[39m                         Traceback (most recent call last)",
      "\u001b[36mCell\u001b[39m\u001b[36m \u001b[39m\u001b[32mIn[4]\u001b[39m\u001b[32m, line 3\u001b[39m\n\u001b[32m      1\u001b[39m pcap_file = \u001b[33m'\u001b[39m\u001b[33m../parsed_output/all_dns.json\u001b[39m\u001b[33m'\u001b[39m \u001b[38;5;66;03m# specify the location of your parsed JSON files\u001b[39;00m\n\u001b[32m----> \u001b[39m\u001b[32m3\u001b[39m df, empty_q_df = \u001b[43mprocess_dns\u001b[49m\u001b[43m(\u001b[49m\u001b[43mpcap_file\u001b[49m\u001b[43m)\u001b[49m\n\u001b[32m      4\u001b[39m df.head(\u001b[32m2\u001b[39m) \u001b[38;5;28;01mif\u001b[39;00m df \u001b[38;5;129;01mis\u001b[39;00m \u001b[38;5;129;01mnot\u001b[39;00m \u001b[38;5;28;01mNone\u001b[39;00m \u001b[38;5;28;01melse\u001b[39;00m \u001b[33m\"\u001b[39m\u001b[33mUpload a file to begin analysis.\u001b[39m\u001b[33m\"\u001b[39m\n",
      "\u001b[36mFile \u001b[39m\u001b[32m~/Projects/dns-exfiltration-detection/src/dns_exfil/process_pcap.py:9\u001b[39m, in \u001b[36mprocess_dns\u001b[39m\u001b[34m(input_file)\u001b[39m\n\u001b[32m      6\u001b[39m \u001b[38;5;28;01mif\u001b[39;00m \u001b[38;5;129;01mnot\u001b[39;00m input_file:\n\u001b[32m      7\u001b[39m     \u001b[38;5;28;01mreturn\u001b[39;00m \u001b[38;5;28;01mNone\u001b[39;00m, \u001b[38;5;28;01mNone\u001b[39;00m\n\u001b[32m----> \u001b[39m\u001b[32m9\u001b[39m \u001b[38;5;28;01mwith\u001b[39;00m \u001b[38;5;28;43mopen\u001b[39;49m\u001b[43m(\u001b[49m\u001b[43minput_file\u001b[49m\u001b[43m)\u001b[49m \u001b[38;5;28;01mas\u001b[39;00m f:\n\u001b[32m     10\u001b[39m     dns_data = json.load(f)\n\u001b[32m     12\u001b[39m df = pd.json_normalize(dns_data)\n",
      "\u001b[31mFileNotFoundError\u001b[39m: [Errno 2] No such file or directory: '../parsed_output/all_dns.json'"
     ]
    }
   ],
   "source": [
    "pcap_file = '../parsed_output/all_dns.json' # specify the location of your parsed JSON files\n",
    "\n",
    "df, empty_q_df = process_dns(pcap_file)\n",
    "df.head(2) if df is not None else \"Upload a file to begin analysis.\""
   ]
  },
  {
   "cell_type": "code",
   "execution_count": null,
   "id": "7f777822-fa22-4a90-a010-8f69dd05111b",
   "metadata": {},
   "outputs": [],
   "source": [
    "# Seperate DNS questions/queries and response into seperate dataframes\n",
    "responses_df = df[df[\"qr\"] == 1].copy()\n",
    "questions_df = df[df[\"qr\"] == 0].copy()"
   ]
  },
  {
   "cell_type": "markdown",
   "id": "7958e658-c67e-49b2-b956-d1e5b830e737",
   "metadata": {},
   "source": [
    "## 2. Analyzing DNS Queries\n",
    "\n",
    "In this section, we analyze DNS query traffic to uncover patterns commonly associated with data exfiltration. By inspecting the statistical distribution and frequency of DNS queries—especially in terms of query length and source IP behavior—we aim to surface signs of covert data transfer over DNS."
   ]
  },
  {
   "cell_type": "markdown",
   "id": "dcf09e0a-9689-433f-9f82-3975e7393685",
   "metadata": {
    "scrolled": true
   },
   "source": [
    "---\n",
    "### 2.1 DNS Query Length Distribution\n",
    "\n",
    "### Why This Matters\n",
    "Analyzing DNS query length and entropy helps detect abnormal patterns. Long or high-entropy query names may contain encoded or obfuscated data, often used in DNS-based data exfiltration or tunneling attacks. In the code below, the feature ```qname_length``` has been pre-computed by our ```dns_utils.py``` script, indicating the length of each DNS query name. We use that feauture to plot the distribution of qname_lengths within a dataset.\n",
    "\n",
    "Detection would require setting a well informed threshold for the length. In the chart below, we have used ```60``` as our threshold. We would flag all queries to the right of the red line as suspicious."
   ]
  },
  {
   "cell_type": "code",
   "execution_count": null,
   "id": "53bd0537-b195-4de0-a250-8f586635d8fc",
   "metadata": {},
   "outputs": [],
   "source": [
    "plt.figure(figsize=(12, 5))\n",
    "plt.hist(questions_df['qname_length'], bins=50, color='skyblue', edgecolor='black')\n",
    "plt.title(\"DNS Query Length Distribution\")\n",
    "plt.xlabel(\"Length\")\n",
    "plt.ylabel(\"Frequency\")\n",
    "plt.axvline(x=60, color='red', linestyle='--', label='Typical Upper Bound')\n",
    "plt.grid(True)\n",
    "plt.legend()\n",
    "plt.show()"
   ]
  },
  {
   "cell_type": "markdown",
   "id": "8d5b5b00-7b73-4c09-b940-f496766a559c",
   "metadata": {
    "scrolled": true
   },
   "source": [
    "**Figure 2.1:** Distribution of DNS query lengths (`qname_length`). Abnormally long query names may suggest data encoding for exfiltration, while uniform lengths could indicate automated beaconing or command-and-control activity."
   ]
  },
  {
   "cell_type": "markdown",
   "id": "fadeca3a",
   "metadata": {},
   "source": [
    "In this particular case, based on our detection threshold, our dataset doesn't exhibit exfiltration based on this analytic alone."
   ]
  },
  {
   "cell_type": "markdown",
   "id": "327ce613-4770-415e-b6b0-d1c900fb839d",
   "metadata": {},
   "source": [
    "---\n",
    "## 2.2 Query Name Entropy\n",
    "\n",
    "**Shannon entropy** is a measure of the **unpredictability or randomness** in a set of data. In the context of DNS QNAMEs, it quantifies how evenly characters are distributed in the domain name.\n",
    "\n",
    "- **High entropy** → characters are diverse and uniformly distributed (e.g., encoded or random-looking strings).\n",
    "- **Low entropy** → characters are repetitive or predictable (e.g., common or human-readable domains).\n",
    "\n",
    "It is calculated using the formula:\n",
    "\n",
    "$$\n",
    "H(Q) = -\\sum_{c \\in \\Sigma} p(c) \\log_2 p(c)\n",
    "$$\n",
    "\n",
    "Where:\n",
    "- $Q$ is the QNAME string\n",
    "- $\\Sigma$ is the set of unique characters in $Q$\n",
    "- $p(c)$ is the probability of character $c$ in $Q$\n",
    "\n",
    "Suspicious queries are those that are:\n",
    "- Longer than usual\n",
    "- Have high variability in query length\n",
    "- Contain base64 or hex-encoded strings\n",
    "\n",
    "Our ```dns_utils.py``` calculates the shannon entropy for each ```qname```,whose distribution we plot below."
   ]
  },
  {
   "cell_type": "code",
   "execution_count": null,
   "id": "fc788c8c-9494-408e-a713-371dd48b6008",
   "metadata": {},
   "outputs": [],
   "source": [
    "plt.figure(figsize=(10, 5))\n",
    "sns.histplot(questions_df['qname_entropy'], bins=30, kde=True, color=\"steelblue\", edgecolor=\"black\")\n",
    "plt.axvline(5.0, color='red', linestyle='dashed', label='Entropy Threshold = 5.0')\n",
    "plt.title(\"Distribution of Query Name Entropy\")\n",
    "plt.xlabel(\"Entropy of Query Name\")\n",
    "plt.ylabel(\"Frequency\")\n",
    "plt.grid(True, linestyle='--', alpha=0.5)\n",
    "plt.tight_layout()\n",
    "plt.show()"
   ]
  },
  {
   "cell_type": "markdown",
   "id": "102a67f5-1f6d-4948-b539-b3446e4e228b",
   "metadata": {},
   "source": [
    "**Figure 2.2**: Distribution of Query Name Entropy by the Number of Queries"
   ]
  },
  {
   "cell_type": "markdown",
   "id": "1311e25c",
   "metadata": {},
   "source": [
    "Again, we need to determine a threshold for detection based on entropy. Ideally, we should use the knowledge learned from a benign sample of the data, and put our threshold slightly above the normal peak. In this example, we have put the threshold at 5.0 using domain knowledge, where entropy values from 4.0 - 4.5 are generally considered high."
   ]
  },
  {
   "cell_type": "markdown",
   "id": "5eac9379-5302-49af-a137-ce640c07daab",
   "metadata": {},
   "source": [
    "---\n",
    "## 2.3 Top Queried Domain Names\n",
    "\n",
    "Beyond analyzing subdomain patterns, it's equally important to examine which domains are being queried most frequently. Domains with an unusually high number of total queries - especially when paired with high subdomain cardinality - are prime suspects for data exfiltration.\n",
    "These domains often:\n",
    "- Receive thousands of queries within short periods\n",
    "- Appear obscure, newly registered, or unrelated to business activity\n",
    "- Encode data into subdomains to bypass detection\n",
    "\n",
    "In the analytic below, we have computed the number of times each domain has been queried, and plotted the highest queried domain names for analysis."
   ]
  },
  {
   "cell_type": "code",
   "execution_count": null,
   "id": "8e11db65-7c26-47ae-b894-9f4b1b3afcd9",
   "metadata": {},
   "outputs": [],
   "source": [
    "# Show top qnames\n",
    "top_qnames = questions_df['qname'].value_counts().head(10)\n",
    "top_qnames_df = top_qnames.reset_index()\n",
    "top_qnames_df.columns = ['qname', 'count']\n",
    "top_qnames_df['hue'] = top_qnames_df['qname']\n",
    "\n",
    "# Plot\n",
    "plt.figure(figsize=(12, 6))\n",
    "sns.barplot(data=top_qnames_df, x='count', y='qname', hue='hue', palette='flare', legend=False)\n",
    "plt.title(\"Top Queried Domain Names\")\n",
    "plt.xlabel(\"Query Count\")\n",
    "plt.ylabel(\"QNAME\")\n",
    "plt.tight_layout()\n",
    "plt.show()"
   ]
  },
  {
   "cell_type": "markdown",
   "id": "4e4d6989-aa44-4cee-835d-0d0bde1c953c",
   "metadata": {},
   "source": [
    "**Figure 2.3:** Domains receiving the highest number of DNS queries. A high query count, especially in combination with subdomain encoding, may reveal command-and-control or exfiltration endpoints."
   ]
  },
  {
   "cell_type": "markdown",
   "id": "094a5add-c42c-4087-88af-915628b3b3dd",
   "metadata": {},
   "source": [
    "---\n",
    "## 2.4 Query Subdomain Name Cardinality"
   ]
  },
  {
   "cell_type": "markdown",
   "id": "8481fdd5-56ce-4052-a108-9e78ad1b3d88",
   "metadata": {},
   "source": [
    "Another hallmark of DNS-based exfiltration is the use of many unique subdomains under the same root domain. Attackers often encode sensitive data into subdomains — and then repeatedly query these dynamically generated names to leak information bit by bit.\n",
    "\n",
    "For example, a root domain like ```malicious-domain.com``` might receive dozens or hundreds of queries like:\n",
    "\n",
    "```\n",
    "abc123.malicious-domain.com  \n",
    "username1.password1.malicious-domain.com  \n",
    "ccnumber.expirydate.ccv.malicious-domain.com  \n",
    "```\n",
    "These domains often appear random and are not typically seen in high traffic. The subdomains encode the actual data being exfiltred, either in plain text or base32/64 encoded.\n",
    "\n",
    "We defined a function ```map_dns_subdomains``` that uses the ```tldexctract``` python library to map each subdomain to its root domain. By counting the number of the mapped subdomains, we are able to plot the cardinality of each root domain in the dataset for analysis."
   ]
  },
  {
   "cell_type": "code",
   "execution_count": null,
   "id": "d32943fb-1938-40b3-8f53-ea0c73dddd36",
   "metadata": {},
   "outputs": [],
   "source": [
    "subdomain_map = map_dns_subdomains(questions_df['qname'])\n",
    "\n",
    "records = [{\"root_domain\": root, \"subdomain_count\": len(subs)} for root, subs in subdomain_map.items()]\n",
    "subdomain_count_df = pd.DataFrame(records).sort_values(by=\"subdomain_count\", ascending=False)\n",
    "\n",
    "plt.figure(figsize=(12, 6))\n",
    "sns.barplot(\n",
    "    data=subdomain_count_df.head(10),\n",
    "    x=\"subdomain_count\",\n",
    "    y=\"root_domain\",\n",
    "    hue=\"root_domain\", \n",
    "    palette=\"mako\",\n",
    "    edgecolor=\"black\",\n",
    "    dodge=False\n",
    ")\n",
    "plt.legend([],[], frameon=False)\n",
    "\n",
    "plt.title(\"Top Root Domains by Number of Subdomains\")\n",
    "plt.xlabel(\"Subdomain Count\")\n",
    "plt.ylabel(\"Root Domain\")\n",
    "plt.tight_layout()\n",
    "plt.show()\n"
   ]
  },
  {
   "cell_type": "markdown",
   "id": "41f561bb-a6fe-48b8-8c58-6b2ddfd5fea6",
   "metadata": {},
   "source": [
    "**Figure 2.4**: Root domains with the highest number of unique subdomains. Unusual subdomain diversity, especially for obscure domains, may suggest that DNS is being used to encode and exfiltrate data."
   ]
  },
  {
   "cell_type": "markdown",
   "id": "460b71f8-8bde-4a89-a5bf-e2965a1f7651",
   "metadata": {},
   "source": [
    "---\n",
    "## 2.5 DNS Query Volume per Client"
   ]
  },
  {
   "cell_type": "code",
   "execution_count": null,
   "id": "2afb2b7a-c3ad-4d1e-be89-bea5532b5175",
   "metadata": {},
   "outputs": [],
   "source": [
    "# Round timestamps to nearest minute or hour\n",
    "questions_df['ts_rounded'] = questions_df['timestamp'].dt.floor('min')  # or 'H' for hourly\n",
    "\n",
    "# Group by time and client IP (src_ip)\n",
    "volume_df = (\n",
    "    questions_df\n",
    "    .groupby(['ts_rounded', 'src_ip'])\n",
    "    .size()\n",
    "    .reset_index(name='query_count')\n",
    ")\n",
    "\n",
    "# Pivot to create stacked series format\n",
    "pivot_df = volume_df.pivot(index='ts_rounded', columns='src_ip', values='query_count').fillna(0)\n",
    "\n",
    "# Plotting\n",
    "pivot_df.plot.area(stacked=True, alpha=0.7, figsize=(14, 6))\n",
    "plt.title(\"DNS Query Volume Per Client IP Over Time (Query-Only)\")\n",
    "plt.xlabel(\"Time\")\n",
    "plt.ylabel(\"Number of Queries\")\n",
    "plt.legend(title=\"Client IP\", bbox_to_anchor=(1.05, 1), loc='upper left')\n",
    "plt.tight_layout()\n",
    "plt.show()\n"
   ]
  },
  {
   "cell_type": "markdown",
   "id": "e12ed2a6-c45f-4177-86bd-ea49e53061c3",
   "metadata": {},
   "source": [
    "**Figure 2.5**: DSN Query Volume By Source IP"
   ]
  },
  {
   "cell_type": "markdown",
   "id": "6e2292ea-a707-4d70-ad25-c9b4ebfda73b",
   "metadata": {},
   "source": [
    "---\n",
    "## 2.6 Inter-query Durations\n",
    "\n",
    "Attackers often attempt to evade detection by spacing out DNS queries at regular intervals — a technique known as beaconing. To analyze this, we calculate the time between successive queries from the same source IP. Beaconing behavior is a common tactic used by malware to maintain communication with a command-and-control (C2) server. It typically involves a host sending out periodic, automated requests—often over DNS—to check in or receive commands. This regularity in communication timing forms the basis for detection. To identify such behavior, we begin by analyzing the distribution of time intervals between successive DNS requests.\n",
    "\n",
    "If many queries are tightly clustered, or if they follow a repetitive pattern, it could indicate automated data exfiltration behavior."
   ]
  },
  {
   "cell_type": "code",
   "execution_count": null,
   "id": "73bb068c-aabb-4036-ba80-8c479f3f9585",
   "metadata": {},
   "outputs": [],
   "source": [
    "# Sort questions by client and timestamp\n",
    "questions_df = questions_df.sort_values(by=[\"src_ip\", \"timestamp\"]).reset_index(drop=True)\n",
    "\n",
    "# Calculate inter-arrival time between successive queries from the same host\n",
    "questions_df['interarrival'] = questions_df.groupby('src_ip')['timestamp'].diff().dt.total_seconds()\n",
    "\n",
    "# Drop the first entries (no previous query)\n",
    "interarrival_df = questions_df.dropna(subset=['interarrival'])\n",
    "\n",
    "# Plot the distribution\n",
    "plt.figure(figsize=(10, 5))\n",
    "sns.histplot(interarrival_df['interarrival'], bins=100, kde=True, color='royalblue')\n",
    "plt.title(\"Distribution of Inter-Query Durations per Host\")\n",
    "plt.xlabel(\"Seconds Between Queries\")\n",
    "plt.ylabel(\"Frequency\")\n",
    "plt.grid(True)\n",
    "plt.tight_layout()\n",
    "#plt.savefig('../Images/inter_query_durations.png')\n",
    "plt.show()\n"
   ]
  },
  {
   "cell_type": "markdown",
   "id": "ea8efa40-8765-4ca1-994b-8924d8ecf053",
   "metadata": {},
   "source": [
    "**Figure 2.6:** Histogram of DNS query interarrival times. Sharp peaks or evenly spaced intervals may signal regular, automated query behavior — consistent with malware beacons or data tunneling."
   ]
  },
  {
   "cell_type": "markdown",
   "id": "ab192255-c76c-450c-9bae-078165b7ee43",
   "metadata": {},
   "source": [
    "---\n",
    "## 2.7 Beaconing Canditates"
   ]
  },
  {
   "cell_type": "markdown",
   "id": "5c8a0afe-55c4-4c39-9225-96968b986b39",
   "metadata": {},
   "source": [
    "To further investigate, we compute the **mean** and **standard deviation** of inter-request intervals for each host. In normal (benign) traffic, inter-request intervals tend to be irregular, resulting in a higher standard deviation. This reflects user-driven or application-triggered behavior with variable timing.\n",
    "In contrast, automated or beaconing traffic often shows a low standard deviation with a consistent mean—indicating predictable, periodic queries that may signal command-and-control activity or data exfiltration."
   ]
  },
  {
   "cell_type": "code",
   "execution_count": null,
   "id": "9550b544-c83a-4f89-aa64-2d06310ee0c9",
   "metadata": {},
   "outputs": [],
   "source": [
    "# Group by client IP to compute inter-query stats\n",
    "beacon_stats = questions_df.groupby(\"src_ip\")['interarrival'].agg(\n",
    "    count=\"count\",\n",
    "    mean=\"mean\",\n",
    "    std=\"std\"\n",
    ").reset_index()\n",
    "\n",
    "# Plot: Mean vs Std Dev of inter-query intervals\n",
    "plt.figure(figsize=(10, 6))\n",
    "sns.scatterplot(\n",
    "    data=beacon_stats,\n",
    "    x='mean',\n",
    "    y='std',\n",
    "    hue='count',\n",
    "    palette='coolwarm',\n",
    "    size='count'\n",
    ")\n",
    "plt.title(\"Beaconing Candidates (DNS Queries Only): Mean vs Std Dev of Inter-Query Times\")\n",
    "plt.xlabel(\"Mean Inter-Query Duration (seconds)\")\n",
    "plt.ylabel(\"Standard Deviation\")\n",
    "plt.grid(True)\n",
    "plt.tight_layout()\n",
    "plt.show()\n"
   ]
  },
  {
   "cell_type": "markdown",
   "id": "93f74bea-345c-4b2b-bf0c-1e3a7bbdacf1",
   "metadata": {},
   "source": [
    "**Figure 2.7**: Beaconing Candidates based on Inter-Request Timing  "
   ]
  },
  {
   "cell_type": "markdown",
   "id": "23db0850-8d82-4622-b1ad-5a9a93ce70e5",
   "metadata": {},
   "source": [
    "---\n",
    "## 2.8 DNS Query Timing\n",
    "\n",
    "Timing patterns in DNS queries can reveal covert data exfiltration:\n",
    "\n",
    "- **Regular Intervals**: Queries at fixed time gaps suggest automated tunneling tools.\n",
    "- **Off-Hour Activity**: Traffic during nights/weekends may indicate unauthorized processes.\n",
    "- **Bursts**: Sudden spikes in query volume can signal rapid data dumping.\n",
    "- **High-Frequency Drip**: Consistent low-volume queries over time may hide slow exfiltration.\n",
    "\n",
    "Normal DNS traffic is typically bursty and user-driven. Consistent or unusual timing patterns are strong indicators of suspicious behavior.\n"
   ]
  },
  {
   "cell_type": "code",
   "execution_count": null,
   "id": "2b949189-a0ba-4163-a39d-21072c282598",
   "metadata": {},
   "outputs": [],
   "source": [
    "questions_df['timestamp'] = pd.to_datetime(questions_df['timestamp'])\n",
    "questions_df['hour'] = questions_df['timestamp'].dt.floor('h')\n",
    "heatmap_top = questions_df.groupby(['src_ip', 'hour']).size().unstack(fill_value=0)"
   ]
  },
  {
   "cell_type": "code",
   "execution_count": null,
   "id": "979b88ad-fddb-40c6-9d41-eb2a9ddccd3b",
   "metadata": {},
   "outputs": [],
   "source": [
    "top_ips_unique_domains = (\n",
    "    questions_df.groupby(\"src_ip\")[\"qname\"]\n",
    "    .nunique()\n",
    "    .sort_values(ascending=False)\n",
    "    .reset_index(name=\"unique_domains\")\n",
    ")\n",
    "\n",
    "# Format x-axis labels without seconds\n",
    "formatted_labels = heatmap_top.columns.strftime('%H:%M')  # or just '%H:%M' if dates not needed\n",
    "\n",
    "plt.figure(figsize=(14, 6))\n",
    "sns.heatmap(heatmap_top, cmap=\"YlGnBu\", cbar=True)\n",
    "\n",
    "# Apply cleaner tick labels with fewer ticks\n",
    "step = 2  # Show every 3rd label (adjust as needed)\n",
    "plt.xticks(\n",
    "    ticks=np.arange(0, len(formatted_labels), step),\n",
    "    labels=formatted_labels[::step],\n",
    "    rotation=45,\n",
    "    ha='right'\n",
    ")\n",
    "\n",
    "plt.xlabel(\"Hour\")\n",
    "plt.ylabel(\"Source IP\")\n",
    "plt.title(\"DNS Query Activity by Source IP Over Time\")\n",
    "plt.tight_layout()\n",
    "plt.show()\n"
   ]
  },
  {
   "cell_type": "markdown",
   "id": "3d9e2308-e792-47d6-b56a-433c100f6f7c",
   "metadata": {},
   "source": [
    "**Figure 2:8**: DNS Query Activity for each ```src_ip per hour``` - to detect scheduling/persistence."
   ]
  },
  {
   "cell_type": "markdown",
   "id": "7b6cb8d4-9814-43ac-8585-f89e12e0431c",
   "metadata": {},
   "source": [
    "# 3. Analyzing Responses"
   ]
  },
  {
   "cell_type": "markdown",
   "id": "2e233e4e-8574-4190-95db-5c8bb28dd131",
   "metadata": {},
   "source": [
    "---\n",
    "## 3.1 Response Code Breakdown\n",
    "\n",
    "RCODE is a 4-bit field in the DNS response message that indicates the outcome of a DNS query. It provides information about the success or failure of the query. RCODE analysis helps detect exfiltration attempts by pointing to irregular patterns that might indicate something suspicious. Here’s are the most relevant RCODE values to analyse in DNS for possible indicators of exfiltration:\n",
    "\n",
    "**NXDOMAIN (RCODE = 3)**:\n",
    "NXDOMAIN response is given when a DNS client queries for a non-existent domain. Attackers encode exfiltrated data as domain names, causing the attacker server to issue NXDOMAIN responses. For instance, an attacker could encode data in the subdomain (e.g., ```data12345.domain.com```), leading to NXDOMAIN responses from the server since the domain doesn't actually exist.\n",
    "\n",
    "**SERVFAIL (RCODE = 2)**:\n",
    "\n",
    "If an attacker is tunneling data, they might configure a DNS server to return SERVFAIL as a way to avoid detection or simply because the query isn't meant to resolve to a valid IP address.\n",
    "\n",
    "**REFUSED (RCODE = 5)**:\n",
    "\n",
    "A REFUSED response occurs when a DNS server refuses to process the query. This might happen when an attacker sends a malformed query or a query to a blacklisted domain."
   ]
  },
  {
   "cell_type": "code",
   "execution_count": null,
   "id": "0a953ce9-0519-45dd-afde-226ca495f208",
   "metadata": {},
   "outputs": [],
   "source": [
    "# Map RCODEs to descriptive names\n",
    "rcode_labels = {\n",
    "    0: \"NoError\",\n",
    "    1: \"FormErr\",\n",
    "    2: \"ServFail\",\n",
    "    3: \"NXDomain\",\n",
    "    4: \"NotImp\",\n",
    "    5: \"Refused\"\n",
    "}\n",
    "responses_df[\"rcode_name\"] = responses_df[\"rcode\"].map(rcode_labels).fillna(\"Other\")\n",
    "\n",
    "# Count occurrences\n",
    "rcode_counts = responses_df[\"rcode_name\"].value_counts().reset_index()\n",
    "rcode_counts.columns = ['rcode_name', 'count']\n",
    "rcode_counts[\"hue\"] = rcode_counts[\"rcode_name\"]\n",
    "# Plot with hue and no legend\n",
    "plt.figure(figsize=(10, 5))\n",
    "sns.barplot(\n",
    "    data=rcode_counts,\n",
    "    x='rcode_name', y='count',\n",
    "    hue='hue', palette='coolwarm', edgecolor='black', legend=False\n",
    ")\n",
    "plt.title(\"DNS Response Code Breakdown\")\n",
    "plt.xlabel(\"RCODE (Response Code)\")\n",
    "plt.ylabel(\"Count\")\n",
    "plt.tight_layout()\n",
    "plt.show()"
   ]
  },
  {
   "cell_type": "markdown",
   "id": "24128fd1-1d0b-492c-a8b8-f70c8fa7ed50",
   "metadata": {},
   "source": [
    "**Figure 3.1**: DNS Response Code Breakdown"
   ]
  },
  {
   "cell_type": "markdown",
   "id": "11214464-7151-412f-a481-893e383ac7a2",
   "metadata": {},
   "source": [
    "---\n",
    "### 3.2 Responses with no Answers - Suspicious\n",
    "\n",
    "In normal DNS operation, if the server sends a response with ```rcode=0```, it means the query from the client was syntactically correct, ie, no errors. In that case, the DNS server should resolve the query and send a valid answer back to the client. If we observe that responses indicate successful queries (```rcode=0```), yet the anwer section has no payload, it is a strong indicator for exfiltration. Attacker controlled DNS servers may not be interested in actually resolving the queries as they only want to receive the exfiltrated data from the client.\n",
    "\n",
    "To uncover possible data exfiltration, we analyze the temporal distribution of DNS traffic. Specifically, we compare:\n",
    "\n",
    "- All DNS queries over time\n",
    "- Suspicious queries with ```rcode=0``` and empty answer sections\n",
    "\n",
    "This time-series visualization helps us spot bursts, regular intervals, or anomalous surges in suspicious traffic.\n",
    "This stacked chart highlights when suspicious queries occur. Spikes in ```rcode=0``` queries with empty answers — especially in tight bursts or repeated patterns — may signal automated beaconing or payload transfer intervals.\n"
   ]
  },
  {
   "cell_type": "code",
   "execution_count": null,
   "id": "61e9b333-f4fb-4c61-9e39-f53be435d328",
   "metadata": {},
   "outputs": [],
   "source": [
    "# Define our suspicious queries as those that returned no error, yet the answer was empty.\n",
    "suspicious_domains = responses_df[\n",
    "    (responses_df['rcode'] == 0) &\n",
    "    (responses_df['answers'].apply(lambda a: isinstance(a, list) and len(a) == 0))\n",
    "]['qname'].dropna().unique()\n",
    "\n",
    "# Normalize and match from questions side\n",
    "questions_df['qname_norm'] = questions_df['qname'].str.lower().str.strip('.')\n",
    "suspicious_domains_norm = pd.Series(suspicious_domains).str.lower().str.strip('.')\n",
    "\n",
    "suspicious_queries = questions_df[questions_df['qname_norm'].isin(suspicious_domains_norm)].copy()\n",
    "\n",
    "# Count per source IP\n",
    "suspicious_by_ip = suspicious_queries['src_ip'].value_counts().reset_index()\n",
    "suspicious_by_ip.columns = ['src_ip', 'suspicious_query_count']\n",
    "\n",
    "# Plot\n",
    "plt.figure(figsize=(10, 6))\n",
    "sns.barplot(data=suspicious_by_ip, x='suspicious_query_count', y='src_ip', palette='flare', edgecolor='black', hue='src_ip', legend=False)\n",
    "plt.title(\"Suspicious DNS Queries per Source IP (rcode=0 + No Answers)\")\n",
    "plt.xlabel(\"Number of Suspicious Queries\")\n",
    "plt.ylabel(\"Source IP\")\n",
    "plt.tight_layout()\n",
    "plt.show()\n"
   ]
  },
  {
   "cell_type": "markdown",
   "id": "6feb8f4a-53df-4214-bf8e-a501eb86a695",
   "metadata": {},
   "source": [
    "**Figure 3.2**: Number of Suspicious DNS Queries per Source IP. These are valid queries that got a reponse with an empty answer"
   ]
  },
  {
   "cell_type": "markdown",
   "id": "9c97e09a-ce5b-44ac-80e3-83067f787bfb",
   "metadata": {},
   "source": [
    "---\n",
    "## 3.3 Suspicious DNS Responses over time\n",
    "\n",
    "We now plot the timeseries of those suspicious DNS queries, superimposed on the rest of the *benign\" traffic in a stacked chart. This chart highlights when suspicious queries actually occur.\n",
    "\n",
    "Sharp surges in red overlay (suspicious traffic) is a potential indicator of data leakage in progress.\n",
    "In addition to traffic volume spikes, this chart reveals another subtle signal: *periodicity*.\n",
    "Attackers often configure malware to exfiltrate data at regular intervals to avoid triggering volume-based (*rate-limit*) alerts. These time-based patterns - sometimes referred to as beaconing behavior - can show up as:\n",
    "- Evenly spaced bursts of suspicious DNS queries\n",
    "- Consistent minute-by-minute activity, even during low-traffic periods"
   ]
  },
  {
   "cell_type": "code",
   "execution_count": null,
   "id": "39d20a2b-4a41-41d1-a93f-1cce895db6be",
   "metadata": {},
   "outputs": [],
   "source": [
    "# Resample counts for suspicious responses\n",
    "suspicious_ts = suspicious_queries.set_index('timestamp').resample('3min').size()\n",
    "\n",
    "# Do the same for all DNS responses or all DNS traffic\n",
    "total_ts = df.set_index('timestamp').resample('3min').size()\n",
    "\n",
    "# Plot stacked\n",
    "plt.figure(figsize=(14, 6))\n",
    "plt.stackplot(\n",
    "    suspicious_ts.index,\n",
    "    total_ts.reindex(suspicious_ts.index, fill_value=0),\n",
    "    suspicious_ts,\n",
    "    labels=[\"All DNS Queries\", \"Suspicious (rcode=0, no answers)\"],\n",
    "    colors=[\"#ADD8E6\", \"#d62728\"],\n",
    "    alpha=0.8\n",
    ")\n",
    "plt.title(\"Stacked DNS Query Volume Over Time (Client Perspective)\")\n",
    "plt.xlabel(\"Time\")\n",
    "plt.ylabel(\"Query Count\")\n",
    "plt.legend(loc=\"upper left\")\n",
    "plt.xticks(rotation=45)\n",
    "plt.tight_layout()\n",
    "plt.grid(True)\n",
    "plt.show()\n"
   ]
  },
  {
   "cell_type": "markdown",
   "id": "2f0d7964-3529-49e6-b76c-850fd277384a",
   "metadata": {},
   "source": [
    "**Figure 3.3:** Stacked time series showing suspicious queries (`rcode=0` with no answers). Repeating bursts or periodic spikes may indicate *automated exfiltration or beaconing behavior*."
   ]
  },
  {
   "cell_type": "markdown",
   "id": "2fc10ae1-f53f-434d-a639-2e70ac13118f",
   "metadata": {},
   "source": [
    "---\n",
    "## 3.4 Answer TTL Analysis\n",
    "\n",
    "In performing TTL Analysis we consider the following standard behaviour in DNS responses\n",
    "- Normal TTLs for legitimate domains often range from 300 to 86400 seconds (5 minutes to 24 hours).\n",
    "- Suspiciously low TTLs (0–5 seconds) could indicate DNS tunneling or beaconing.\n",
    "- Clusters around exact values (e.g., many responses with TTL = 60 or 600) may suggest scripted exfiltration infrastructure."
   ]
  },
  {
   "cell_type": "code",
   "execution_count": null,
   "id": "c0562b16-96f3-4cc6-b323-e6e8dcf44485",
   "metadata": {},
   "outputs": [],
   "source": [
    "# Ensure 'answers' is list-like and extract TTLs\n",
    "def extract_ttls(answer_list):\n",
    "    if isinstance(answer_list, list):\n",
    "        return [a.get('ttl', None) for a in answer_list if isinstance(a, dict) and 'ttl' in a]\n",
    "    return []\n",
    "\n",
    "# Expand TTLs from answers\n",
    "responses_df['ttls'] = responses_df['answers'].apply(extract_ttls)\n",
    "\n",
    "# Explode to flatten one TTL per row\n",
    "ttl_expanded = responses_df[['src_ip', 'qname', 'ttls']].explode('ttls')\n",
    "ttl_expanded = ttl_expanded.dropna(subset=['ttls'])  # Drop rows with missing TTLs\n",
    "ttl_expanded['ttls'] = ttl_expanded['ttls'].astype(int)\n",
    "\n",
    "# Plot TTL distribution\n",
    "plt.figure(figsize=(12, 6))\n",
    "sns.histplot(ttl_expanded['ttls'], bins=50, kde=True, color='darkorange')\n",
    "plt.title(\"Distribution of DNS Answer TTLs\")\n",
    "plt.xlabel(\"TTL (Seconds)\")\n",
    "plt.ylabel(\"Frequency\")\n",
    "plt.grid(True)\n",
    "plt.tight_layout()\n",
    "plt.show()\n"
   ]
  },
  {
   "cell_type": "markdown",
   "id": "c4cc6f30-359b-416a-a9d1-955115acb58c",
   "metadata": {},
   "source": [
    "**Figure 3.4**: Distribution of DNS answer TTLs over time"
   ]
  },
  {
   "cell_type": "markdown",
   "id": "599fe750-697b-4643-bbb6-088817390bd6",
   "metadata": {},
   "source": [
    "---\n",
    "## 3.5 Distribution of DNS Answer TTLS ( < 300s )\n",
    "\n",
    "In the chart below, we filter out DNS answers with TTL < 300s (5 minutes) and plot their distribution for further analysis."
   ]
  },
  {
   "cell_type": "code",
   "execution_count": null,
   "id": "fc5ec4e3-89d4-4146-ab51-9a3d495cca9a",
   "metadata": {},
   "outputs": [],
   "source": [
    "# Filter only TTLs less than 60 seconds\n",
    "ttl_suspicious = ttl_expanded[ttl_expanded['ttls'] < 300]\n",
    "\n",
    "# Plot histogram of low TTLs\n",
    "plt.figure(figsize=(10, 5))\n",
    "sns.histplot(ttl_suspicious['ttls'], bins=30, color='crimson', edgecolor='black')\n",
    "plt.title(\"Distribution of Suspicious DNS Answer TTLs (< 300s)\")\n",
    "plt.xlabel(\"TTL (Seconds)\")\n",
    "plt.ylabel(\"Count\")\n",
    "plt.grid(True)\n",
    "plt.tight_layout()\n",
    "plt.show()"
   ]
  },
  {
   "cell_type": "markdown",
   "id": "e44092fd-0b97-4fa1-b525-59577347e67f",
   "metadata": {},
   "source": [
    "**Figure 3.5**: Distribution of answer TTLS under a given threshold ( < 300s in this case)"
   ]
  },
  {
   "cell_type": "markdown",
   "id": "0836bf45-32db-4854-8328-87aef33b58ea",
   "metadata": {},
   "source": [
    "---\n",
    "## 3.6 Breakdown of DNS Response Types\n",
    "\n",
    "DNS response types can reveal data exfiltration attempts, as attackers often misuse them to bypass security controls. Here is a brief breakdown of the significance of the various response types to data exfiltration over DNS analysis:  \n",
    "- **TXT**: Commonly abused to carry arbitrary data; monitor for large or frequent responses.\n",
    "- **NULL**: Rarely used legitimately; high risk due to ability to carry binary payloads.\n",
    "- **CNAME**: Used for domain redirection or chaining; look for long or suspicious chains.\n",
    "- **A/AAAA**: Can encode data in IP addresses; detect via pattern and entropy analysis.\n",
    "- **MX/SRV/NS**: Less common in abuse but still possible; investigate unexpected use.\n",
    "  \n",
    "*Detection Strategy*: Baseline normal DNS behavior and flag anomalies in response types"
   ]
  },
  {
   "cell_type": "markdown",
   "id": "2931048e-e3a7-4137-aade-dbd9c7a2bfb6",
   "metadata": {},
   "source": [
    "We first create a mapping of the common reponse types to friendly names"
   ]
  },
  {
   "cell_type": "code",
   "execution_count": null,
   "id": "8992c6d4-04da-4c77-a26e-092d7131bad2",
   "metadata": {},
   "outputs": [],
   "source": [
    "# Mapping from rtype numeric to human-readable name\n",
    "rtype_map = {\n",
    "    1: 'A',\n",
    "    2: 'NS',\n",
    "    5: 'CNAME',\n",
    "    6: 'SOA',\n",
    "    12: 'PTR',\n",
    "    15: 'MX',\n",
    "    16: 'TXT',\n",
    "    28: 'AAAA',\n",
    "    33: 'SRV',\n",
    "    255: 'ANY'\n",
    "}"
   ]
  },
  {
   "cell_type": "markdown",
   "id": "44ba10ba-07fb-4492-abed-01ba7b3fdb27",
   "metadata": {},
   "source": [
    "We then extract the  values of ```rtype``` from the answers and map them to our friendly names. Those that dont fit into the mapping are classified as *other*"
   ]
  },
  {
   "cell_type": "code",
   "execution_count": null,
   "id": "db0e639d-114a-491d-85e0-260045c82b79",
   "metadata": {},
   "outputs": [],
   "source": [
    "# Extract and map rtype values\n",
    "def extract_rtypes(answers):\n",
    "    if isinstance(answers, list):\n",
    "        return [rtype_map.get(a.get('rtype', -1), 'Other') for a in answers if isinstance(a, dict)]\n",
    "    return []\n",
    "\n",
    "# Apply and explode\n",
    "responses_df['rtypes'] = responses_df['answers'].apply(extract_rtypes)\n",
    "rtypes_exploded = responses_df.explode('rtypes').dropna(subset=['rtypes'])"
   ]
  },
  {
   "cell_type": "markdown",
   "id": "5df766f1-0c00-4c84-baa1-ec9a7604577f",
   "metadata": {},
   "source": [
    "Finally, we draw a chart of the response types for analysis"
   ]
  },
  {
   "cell_type": "code",
   "execution_count": null,
   "id": "55f39617-256f-4673-9be4-bfdbd91ea19b",
   "metadata": {},
   "outputs": [],
   "source": [
    "# Plot breakdown\n",
    "plt.figure(figsize=(10, 5))\n",
    "sns.countplot(\n",
    "    data=rtypes_exploded,\n",
    "    x='rtypes',\n",
    "    hue='rtypes',\n",
    "    palette='crest',\n",
    "    legend=False\n",
    ")\n",
    "plt.title(\"Breakdown of DNS Response Types\")\n",
    "plt.xlabel(\"Response Type\")\n",
    "plt.ylabel(\"Count\")\n",
    "plt.grid(True, axis='y')\n",
    "plt.tight_layout()\n",
    "# plt.savefig('../Images/dns_response_type_breakdown_fixed.png')\n",
    "plt.show()"
   ]
  },
  {
   "cell_type": "markdown",
   "id": "5b37bb5e-08d0-485e-8310-38e44c196284",
   "metadata": {},
   "source": [
    "**Figure 3.6**: DNS Response Type Breakdown"
   ]
  },
  {
   "cell_type": "markdown",
   "id": "0288798e-8686-4776-8d73-623d3c5c5669",
   "metadata": {},
   "source": [
    "---\n",
    "### Next Steps:\n",
    "- Apply machine learning to model normal vs. anomalous DNS behavior.\n",
    "- Extend this analysis to include domain reputation checks and threat intelligence enrichment.\n",
    "- Integrate this workflow into a real-time detection pipeline in Azure DataBricks."
   ]
  },
  {
   "cell_type": "markdown",
   "id": "5267c704-63e1-4be2-8553-43421ec6eecc",
   "metadata": {},
   "source": [
    "---\n",
    "## References\n",
    "- CIC-Bell-DNSExf Dataset: [CIC Website](https://www.unb.ca/cic/datasets/dns-exfiltration.html)\n",
    "- Corresponding Paper: *Samaneh Mahdavifar, Amgad Hanafy Salem, Princy Victor, Miguel Garzon, Amir H. Razavi, Natasha Hellberg, Arash Habibi Lashkari, \"Lightweight Hybrid Detection of Data Exfiltration using DNS based on Machine Learning\", The 11th IEEE International Conference on Communication and Network Security (ICCNS), Dec. 3–5, 2021, Beijing Jiaotong University, Weihai, China.*"
   ]
  },
  {
   "cell_type": "code",
   "execution_count": null,
   "id": "0930c521",
   "metadata": {},
   "outputs": [],
   "source": []
  }
 ],
 "metadata": {
  "kernelspec": {
   "display_name": "Python 3 (ipykernel)",
   "language": "python",
   "name": "python3"
  },
  "language_info": {
   "codemirror_mode": {
    "name": "ipython",
    "version": 3
   },
   "file_extension": ".py",
   "mimetype": "text/x-python",
   "name": "python",
   "nbconvert_exporter": "python",
   "pygments_lexer": "ipython3",
   "version": "3.12.3"
  }
 },
 "nbformat": 4,
 "nbformat_minor": 5
}
