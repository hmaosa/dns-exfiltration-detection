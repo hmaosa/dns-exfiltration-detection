{
 "cells": [
  {
   "cell_type": "markdown",
   "id": "ec5475ea",
   "metadata": {},
   "source": [
    "# Imports"
   ]
  },
  {
   "cell_type": "code",
   "execution_count": 3,
   "id": "384a22b1",
   "metadata": {},
   "outputs": [],
   "source": [
    "from pyspark.sql import SparkSession\n",
    "from pyspark.sql import functions as sf\n",
    "import json"
   ]
  },
  {
   "cell_type": "code",
   "execution_count": 4,
   "id": "1618ef76",
   "metadata": {},
   "outputs": [
    {
     "name": "stderr",
     "output_type": "stream",
     "text": [
      "WARNING: Using incubator modules: jdk.incubator.vector\n",
      "Using Spark's default log4j profile: org/apache/spark/log4j2-defaults.properties\n",
      "25/06/10 14:42:17 WARN Utils: Your hostname, HMLaptop, resolves to a loopback address: 127.0.1.1; using 10.255.255.254 instead (on interface lo)\n",
      "25/06/10 14:42:17 WARN Utils: Set SPARK_LOCAL_IP if you need to bind to another address\n",
      "Using Spark's default log4j profile: org/apache/spark/log4j2-defaults.properties\n",
      "Setting default log level to \"WARN\".\n",
      "To adjust logging level use sc.setLogLevel(newLevel). For SparkR, use setLogLevel(newLevel).\n",
      "25/06/10 14:42:18 WARN NativeCodeLoader: Unable to load native-hadoop library for your platform... using builtin-java classes where applicable\n"
     ]
    }
   ],
   "source": [
    "\n",
    "spark = SparkSession.builder.getOrCreate()\n"
   ]
  },
  {
   "cell_type": "code",
   "execution_count": 5,
   "id": "2a3999d2",
   "metadata": {},
   "outputs": [
    {
     "name": "stderr",
     "output_type": "stream",
     "text": [
      "                                                                                \r"
     ]
    }
   ],
   "source": [
    "df = spark.read.option(\"multiline\", \"true\").json(\"../data/all_dns.json\")\n",
    "    "
   ]
  },
  {
   "cell_type": "code",
   "execution_count": 7,
   "id": "ed2dce4c",
   "metadata": {},
   "outputs": [
    {
     "name": "stdout",
     "output_type": "stream",
     "text": [
      "+-------+-------------+--------+-----------+-----+----------------+-----------+------+-----------+---+---------+-----+-------------+--------+-----------+--------------------+-----+\n",
      "|answers|       dst_ip|dst_port|dst_service|   id|ip_header_length|ip_protocol|opcode|packet_size| qr|questions|rcode|       src_ip|src_port|src_service|           timestamp| type|\n",
      "+-------+-------------+--------+-----------+-----+----------------+-----------+------+-----------+---+---------+-----+-------------+--------+-----------+--------------------+-----+\n",
      "|     []|192.168.20.72|      53|     domain|63107|              20|        UDP|     0|        123|  0|       []|    0|192.168.20.38|   52763|       NULL|2020-11-24T00:28:...|other|\n",
      "|     []|192.168.20.38|   52763|       NULL|63107|              20|        UDP|     0|        138|  1|       []|    0|192.168.20.72|      53|     domain|2020-11-24T00:28:...|other|\n",
      "+-------+-------------+--------+-----------+-----+----------------+-----------+------+-----------+---+---------+-----+-------------+--------+-----------+--------------------+-----+\n",
      "only showing top 2 rows\n"
     ]
    }
   ],
   "source": [
    "df.show(2)"
   ]
  },
  {
   "cell_type": "code",
   "execution_count": 100,
   "id": "451e07e1",
   "metadata": {},
   "outputs": [],
   "source": [
    "dns_data = df.select(\"timestamp\",\"src_ip\", \"dst_ip\",\"id\", \"opcode\",\"qr\",\"rcode\",\"questions\",\"answers\")"
   ]
  },
  {
   "cell_type": "code",
   "execution_count": 139,
   "id": "239c6c11",
   "metadata": {},
   "outputs": [],
   "source": [
    "all_queries = dns_data.filter((dns_data[\"opcode\"] == 0) & (dns_data[\"qr\"] == 0))\n",
    "all_responses = dns_data.filter((dns_data[\"opcode\"] == 0) & (dns_data[\"qr\"] == 1))\n",
    "valid_queries = all_queries.filter(sf.size(\"questions\") > 0).drop(\"answers\")\n",
    "valid_responses = all_responses.filter(sf.size(\"answers\") > 0).drop(\"questions\")\n",
    "empty_questions = all_queries.filter(sf.size(\"questions\") == 0)\n",
    "empty_answers = all_responses.filter(sf.size(\"answers\") == 0)"
   ]
  },
  {
   "cell_type": "code",
   "execution_count": 140,
   "id": "c9acf2f8",
   "metadata": {},
   "outputs": [
    {
     "name": "stdout",
     "output_type": "stream",
     "text": [
      "+--------------------+-------------+-------+-----+------+---+-----+--------------------+\n",
      "|           timestamp|       src_ip| dst_ip|   id|opcode| qr|rcode|           questions|\n",
      "+--------------------+-------------+-------+-----+------+---+-----+--------------------+\n",
      "|2020-11-24T00:32:...|192.168.20.38|8.8.8.8|53331|     0|  0|    0|[{1, v10.events.d...|\n",
      "|2020-11-24T00:37:...|192.168.20.38|8.8.8.8|11770|     0|  0|    0|[{1, dns.google.,...|\n",
      "|2020-11-24T00:42:...|192.168.20.38|8.8.8.8|64588|     0|  0|    0|[{1, tile-service...|\n",
      "+--------------------+-------------+-------+-----+------+---+-----+--------------------+\n",
      "only showing top 3 rows\n"
     ]
    }
   ],
   "source": [
    "valid_queries.show(3)"
   ]
  },
  {
   "cell_type": "code",
   "execution_count": 141,
   "id": "4f22b2c1",
   "metadata": {},
   "outputs": [
    {
     "name": "stdout",
     "output_type": "stream",
     "text": [
      "+--------------------+-------+-------------+-----+------+---+-----+--------------------+\n",
      "|           timestamp| src_ip|       dst_ip|   id|opcode| qr|rcode|             answers|\n",
      "+--------------------+-------+-------------+-----+------+---+-----+--------------------+\n",
      "|2020-11-24T00:37:...|8.8.8.8|192.168.20.38|11770|     0|  1|    0|[{1, 8.8.8.8, dns...|\n",
      "|2020-11-24T00:42:...|8.8.8.8|192.168.20.38|19842|     0|  1|    0|[{1, 8.8.4.4, dns...|\n",
      "|2020-11-24T00:54:...|8.8.8.8|192.168.20.38|17689|     0|  1|    0|[{1, 8.8.4.4, dns...|\n",
      "+--------------------+-------+-------------+-----+------+---+-----+--------------------+\n",
      "only showing top 3 rows\n"
     ]
    }
   ],
   "source": [
    "valid_responses.show(3)"
   ]
  },
  {
   "cell_type": "markdown",
   "id": "278acf14",
   "metadata": {},
   "source": [
    "We only need queries with actual questions"
   ]
  },
  {
   "cell_type": "code",
   "execution_count": 142,
   "id": "c3359002",
   "metadata": {},
   "outputs": [
    {
     "name": "stdout",
     "output_type": "stream",
     "text": [
      "+--------------------+-------------+-------+-----+------+---+-----+--------------------+\n",
      "|           timestamp|       src_ip| dst_ip|   id|opcode| qr|rcode|           questions|\n",
      "+--------------------+-------------+-------+-----+------+---+-----+--------------------+\n",
      "|2020-11-24T00:32:...|192.168.20.38|8.8.8.8|53331|     0|  0|    0|[{1, v10.events.d...|\n",
      "|2020-11-24T00:37:...|192.168.20.38|8.8.8.8|11770|     0|  0|    0|[{1, dns.google.,...|\n",
      "|2020-11-24T00:42:...|192.168.20.38|8.8.8.8|64588|     0|  0|    0|[{1, tile-service...|\n",
      "+--------------------+-------------+-------+-----+------+---+-----+--------------------+\n",
      "only showing top 3 rows\n"
     ]
    }
   ],
   "source": [
    "valid_queries.show(3)\n"
   ]
  },
  {
   "cell_type": "code",
   "execution_count": 143,
   "id": "e60d068f",
   "metadata": {},
   "outputs": [],
   "source": [
    "valid_queries = valid_queries.withColumn(\"questions\", sf.explode(\"questions\"))\n",
    "valid_queries = valid_queries.withColumns({\n",
    "    \"qname\": valid_queries.questions.qname,\n",
    "    \"qtype\": valid_queries.questions.qtype,\n",
    "    \"qlen\": sf.length(valid_queries.questions.qname)}).drop(\"questions\")"
   ]
  },
  {
   "cell_type": "code",
   "execution_count": 144,
   "id": "77244668",
   "metadata": {},
   "outputs": [
    {
     "name": "stdout",
     "output_type": "stream",
     "text": [
      "+--------------------+-------------+-------+-----+------+---+-----+--------------------+-----+----+\n",
      "|           timestamp|       src_ip| dst_ip|   id|opcode| qr|rcode|               qname|qtype|qlen|\n",
      "+--------------------+-------------+-------+-----+------+---+-----+--------------------+-----+----+\n",
      "|2020-11-24T00:32:...|192.168.20.38|8.8.8.8|53331|     0|  0|    0|v10.events.data.m...|    1|  30|\n",
      "|2020-11-24T00:37:...|192.168.20.38|8.8.8.8|11770|     0|  0|    0|         dns.google.|    1|  11|\n",
      "|2020-11-24T00:42:...|192.168.20.38|8.8.8.8|64588|     0|  0|    0|tile-service.weat...|    1|  35|\n",
      "+--------------------+-------------+-------+-----+------+---+-----+--------------------+-----+----+\n",
      "only showing top 3 rows\n"
     ]
    }
   ],
   "source": [
    "valid_queries.show(3)"
   ]
  },
  {
   "cell_type": "code",
   "execution_count": 145,
   "id": "9f4aa6fd",
   "metadata": {},
   "outputs": [],
   "source": [
    "valid_responses = valid_responses.withColumn(\"answers\", sf.explode(\"answers\")).drop(\"questions\")\n",
    "valid_responses = valid_responses.withColumns({\n",
    "    \"rclass\":valid_responses.answers.rclass,\n",
    "    \"rdata\": valid_responses.answers.rdata,\n",
    "    \"rrname\": valid_responses.answers.rrname,\n",
    "    \"rtype\": valid_responses.answers.rtype,\n",
    "    \"ttl\": valid_responses.answers.ttl\n",
    "}).drop(\"answers\", \"opcode\")\n"
   ]
  },
  {
   "cell_type": "code",
   "execution_count": 146,
   "id": "aa78fcf3",
   "metadata": {},
   "outputs": [
    {
     "name": "stdout",
     "output_type": "stream",
     "text": [
      "+--------------------+-------+-------------+-----+---+-----+------+-------+-----------+-----+---+\n",
      "|           timestamp| src_ip|       dst_ip|   id| qr|rcode|rclass|  rdata|     rrname|rtype|ttl|\n",
      "+--------------------+-------+-------------+-----+---+-----+------+-------+-----------+-----+---+\n",
      "|2020-11-24T00:37:...|8.8.8.8|192.168.20.38|11770|  1|    0|     1|8.8.8.8|dns.google.|    1|156|\n",
      "|2020-11-24T00:42:...|8.8.8.8|192.168.20.38|19842|  1|    0|     1|8.8.4.4|dns.google.|    1|631|\n",
      "|2020-11-24T00:54:...|8.8.8.8|192.168.20.38|17689|  1|    0|     1|8.8.4.4|dns.google.|    1| 84|\n",
      "+--------------------+-------+-------------+-----+---+-----+------+-------+-----------+-----+---+\n",
      "only showing top 3 rows\n"
     ]
    }
   ],
   "source": [
    "valid_responses.show(3)"
   ]
  },
  {
   "cell_type": "code",
   "execution_count": 147,
   "id": "8e168785",
   "metadata": {},
   "outputs": [],
   "source": [
    "valid_responses = valid_responses.withColumnsRenamed({\n",
    "    \"timestamp\": \"ts\",\n",
    "    \"src_ip\": \"ns\",\n",
    "    \"dst_ip\": \"client_ip\",\n",
    "    \"id\": \"rid\",\n",
    "    \"qr\": \"rqr\",\n",
    "    \"rcode\": \"rrcode\"\n",
    "})"
   ]
  },
  {
   "cell_type": "code",
   "execution_count": 148,
   "id": "2d05c3e7",
   "metadata": {},
   "outputs": [
    {
     "name": "stdout",
     "output_type": "stream",
     "text": [
      "+--------------------+-------+-------------+-----+---+------+------+-------+-----------+-----+---+\n",
      "|                  ts|     ns|    client_ip|  rid|rqr|rrcode|rclass|  rdata|     rrname|rtype|ttl|\n",
      "+--------------------+-------+-------------+-----+---+------+------+-------+-----------+-----+---+\n",
      "|2020-11-24T00:37:...|8.8.8.8|192.168.20.38|11770|  1|     0|     1|8.8.8.8|dns.google.|    1|156|\n",
      "|2020-11-24T00:42:...|8.8.8.8|192.168.20.38|19842|  1|     0|     1|8.8.4.4|dns.google.|    1|631|\n",
      "|2020-11-24T00:54:...|8.8.8.8|192.168.20.38|17689|  1|     0|     1|8.8.4.4|dns.google.|    1| 84|\n",
      "+--------------------+-------+-------------+-----+---+------+------+-------+-----------+-----+---+\n",
      "only showing top 3 rows\n"
     ]
    }
   ],
   "source": [
    "valid_responses.show(3)"
   ]
  },
  {
   "cell_type": "code",
   "execution_count": null,
   "id": "d9d7559f",
   "metadata": {},
   "outputs": [],
   "source": []
  }
 ],
 "metadata": {
  "kernelspec": {
   "display_name": ".venv",
   "language": "python",
   "name": "python3"
  },
  "language_info": {
   "codemirror_mode": {
    "name": "ipython",
    "version": 3
   },
   "file_extension": ".py",
   "mimetype": "text/x-python",
   "name": "python",
   "nbconvert_exporter": "python",
   "pygments_lexer": "ipython3",
   "version": "3.12.3"
  }
 },
 "nbformat": 4,
 "nbformat_minor": 5
}
